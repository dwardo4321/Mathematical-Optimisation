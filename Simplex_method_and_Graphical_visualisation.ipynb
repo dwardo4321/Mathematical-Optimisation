{
  "nbformat": 4,
  "nbformat_minor": 0,
  "metadata": {
    "colab": {
      "provenance": [],
      "authorship_tag": "ABX9TyPK7enRtZQIxFxatYacLUdy",
      "include_colab_link": true
    },
    "kernelspec": {
      "name": "python3",
      "display_name": "Python 3"
    },
    "language_info": {
      "name": "python"
    }
  },
  "cells": [
    {
      "cell_type": "markdown",
      "metadata": {
        "id": "view-in-github",
        "colab_type": "text"
      },
      "source": [
        "<a href=\"https://colab.research.google.com/github/dwardo4321/Mathematical-Optimisation/blob/main/Simplex_method_and_Graphical_visualisation.ipynb\" target=\"_parent\"><img src=\"https://colab.research.google.com/assets/colab-badge.svg\" alt=\"Open In Colab\"/></a>"
      ]
    },
    {
      "cell_type": "code",
      "source": [
        "%pip install gekko\n",
        "%pip install matplotlib\n",
        "%pip install numpy\n",
        "# from google.colab import sheets\n",
        "# sh = sheets.InteractiveSheet()\n",
        "# df = sh.as_df()"
      ],
      "metadata": {
        "colab": {
          "base_uri": "https://localhost:8080/"
        },
        "id": "Hd-YECExsaku",
        "outputId": "62e4bc50-283f-4979-e99e-59b00cd9d3f9"
      },
      "execution_count": 5,
      "outputs": [
        {
          "output_type": "stream",
          "name": "stdout",
          "text": [
            "Collecting gekko\n",
            "  Downloading gekko-1.2.1-py3-none-any.whl.metadata (3.0 kB)\n",
            "Requirement already satisfied: numpy>=1.8 in /usr/local/lib/python3.10/dist-packages (from gekko) (1.26.4)\n",
            "Downloading gekko-1.2.1-py3-none-any.whl (13.2 MB)\n",
            "\u001b[2K   \u001b[90m━━━━━━━━━━━━━━━━━━━━━━━━━━━━━━━━━━━━━━━━\u001b[0m \u001b[32m13.2/13.2 MB\u001b[0m \u001b[31m49.9 MB/s\u001b[0m eta \u001b[36m0:00:00\u001b[0m\n",
            "\u001b[?25hInstalling collected packages: gekko\n",
            "Successfully installed gekko-1.2.1\n",
            "Requirement already satisfied: matplotlib in /usr/local/lib/python3.10/dist-packages (3.7.1)\n",
            "Requirement already satisfied: contourpy>=1.0.1 in /usr/local/lib/python3.10/dist-packages (from matplotlib) (1.2.1)\n",
            "Requirement already satisfied: cycler>=0.10 in /usr/local/lib/python3.10/dist-packages (from matplotlib) (0.12.1)\n",
            "Requirement already satisfied: fonttools>=4.22.0 in /usr/local/lib/python3.10/dist-packages (from matplotlib) (4.53.1)\n",
            "Requirement already satisfied: kiwisolver>=1.0.1 in /usr/local/lib/python3.10/dist-packages (from matplotlib) (1.4.5)\n",
            "Requirement already satisfied: numpy>=1.20 in /usr/local/lib/python3.10/dist-packages (from matplotlib) (1.26.4)\n",
            "Requirement already satisfied: packaging>=20.0 in /usr/local/lib/python3.10/dist-packages (from matplotlib) (24.1)\n",
            "Requirement already satisfied: pillow>=6.2.0 in /usr/local/lib/python3.10/dist-packages (from matplotlib) (9.4.0)\n",
            "Requirement already satisfied: pyparsing>=2.3.1 in /usr/local/lib/python3.10/dist-packages (from matplotlib) (3.1.2)\n",
            "Requirement already satisfied: python-dateutil>=2.7 in /usr/local/lib/python3.10/dist-packages (from matplotlib) (2.8.2)\n",
            "Requirement already satisfied: six>=1.5 in /usr/local/lib/python3.10/dist-packages (from python-dateutil>=2.7->matplotlib) (1.16.0)\n",
            "Requirement already satisfied: numpy in /usr/local/lib/python3.10/dist-packages (1.26.4)\n"
          ]
        }
      ]
    },
    {
      "cell_type": "markdown",
      "source": [
        "**Simplex Method for Linear Optimisation: Question 1**"
      ],
      "metadata": {
        "id": "JDhfBTPsI99B"
      }
    },
    {
      "cell_type": "code",
      "source": [
        "#solve LP\n",
        "from gekko import GEKKO\n",
        "m = GEKKO(remote=False)\n",
        "x,y = m.Array(m.Var,2,lb=0)\n",
        "m.Equations([6*x+4*y<=24,\n",
        "             x+2*y<=6,\n",
        "             -x+y<=1,\n",
        "             y<=2])\n",
        "m.Maximize(x+y)\n",
        "m.solve(disp=False)\n",
        "xopt = x.value[0]; yopt = y.value[0]\n",
        "print('x:', xopt,'y:', yopt,'obj:',-m.options.objfcnval)"
      ],
      "metadata": {
        "id": "zJH5BwyNsgSV"
      },
      "execution_count": null,
      "outputs": []
    },
    {
      "cell_type": "markdown",
      "source": [
        "**Visualisation**"
      ],
      "metadata": {
        "id": "sFK_u6NZI4yr"
      }
    },
    {
      "cell_type": "code",
      "source": [
        "import numpy as np\n",
        "import matplotlib.pyplot as plt\n",
        "#visualize solution\n",
        "# Plot the optimal solution\n",
        "x = np.arange(0, 100)\n",
        "plt.plot(x, 6 - (3/2) * x, label = r'6x+4y<=24',linewidth=1)\n",
        "plt.plot(x, 3 - 0.5 * x, label= r'x+2y<=6',linewidth=1)\n",
        "plt.plot(x, 1 + x, label = r'-x+y<=1',linewidth=1)\n",
        "plt.plot(x, 2 * np.ones_like(x), label = 'y<=2',linewidth=1)\n",
        "xv = [0,0,1,2,3,4,0]; yv = [0,1,2,2,1.5,0,0]\n",
        "plt.plot(xv,yv,'ko--',markersize=8,linewidth=2)\n",
        "for i in range(len(xv)):\n",
        "    plt.text(xv[i]+0.1,yv[i]+0.1,f'({xv[i]},{yv[i]})')\n",
        "plt.plot([xopt], [yopt], marker='o', color='orange', markersize=8)\n",
        "plt.fill(xv, yv, 'grey')\n",
        "\n",
        "plt.xlabel('x') ;plt.ylabel('y')\n",
        "plt.xlim(0,5)   ;plt.ylim(0,3)   ;plt.grid(True)   ;plt.tight_layout() # Can also use plt.axis([0, 5, 0, 4])\n",
        "plt.title('Optimal Solution')\n",
        "plt.text(1.5, 1, 'Feasible \\n Region', size = '10')\n",
        "plt.annotate('Optimal \\n solution', xy = (3.1, 1.7), size = '10')\n",
        "\n",
        "plt.legend()\n",
        "plt.show()"
      ],
      "metadata": {
        "id": "IwKZgjvkuFBO"
      },
      "execution_count": null,
      "outputs": []
    },
    {
      "cell_type": "markdown",
      "source": [
        "**Simplex: Question 2**"
      ],
      "metadata": {
        "id": "qSZg12w6IrTO"
      }
    },
    {
      "cell_type": "code",
      "source": [
        "from gekko import GEKKO\n",
        "\n",
        "m = GEKKO(remote=False)  # Initialize gekko\n",
        "x, y = m.Array(m.Var, 2, lb=0)\n",
        "m.Maximize(10 * x + 7 * y)\n",
        "m.Equation(2 * x + 1 * y <= 5000)\n",
        "m.Equation(4 * x + 5 * y <= 15000)\n",
        "m.Equation(y <= 2000)\n",
        "m.solve(disp=False)\n",
        "xopt = x.value[0]; yopt = y.value[0]\n",
        "print('x:', xopt,'y:', yopt,'obj:',-m.options.objfcnval)\n",
        "# print solution\n",
        "print(f'Optimal solution: G = {x.value[0]:.2f}, H = {y.value[0]:.2f}')\n",
        "print(f'Maximum profit = ${-m.options.objfcnval:.2f}')"
      ],
      "metadata": {
        "id": "AwrCK4KY3tOs"
      },
      "execution_count": null,
      "outputs": []
    },
    {
      "cell_type": "markdown",
      "source": [
        "**Visualisation**"
      ],
      "metadata": {
        "id": "PhmXL1xiIjDT"
      }
    },
    {
      "cell_type": "code",
      "source": [
        "import numpy as np\n",
        "import matplotlib.pyplot as plt\n",
        "#visualize solution\n",
        "# Plot the optimal solution\n",
        "x = np.arange(0, 100000)\n",
        "plt.plot(x, 5000 - 2 * x, label = r'2x+y<=5000',linewidth=1)\n",
        "plt.plot(x, 3000 - (4/5) * x, label= r'4x+5y<=15000',linewidth=1)\n",
        "plt.plot(x, 2000 * np.ones_like(x), label = 'y<=2000',linewidth=1)\n",
        "xv = [0, 0, round(2500/2,2), round(10000/6,2), 2500, 0]; yv = [0, 2000, 2000, round(5000-10000/3,2), 0,0]\n",
        "plt.plot(xv,yv,'ko--',markersize=6,linewidth=2)\n",
        "plt.fill(xv,yv, 'yellow')\n",
        "for i in range(len(xv)):\n",
        "    plt.text(xv[i]+50,yv[i]+50,f'({xv[i]},{yv[i]})')\n",
        "plt.plot([xopt],[yopt], marker = 'o', markersize = 8, color = 'red')\n",
        "\n",
        "plt.xlim(0,2900)   ;plt.ylim(0,3000)\n",
        "plt.xlabel('x') ;plt.ylabel('y')\n",
        "plt.grid(True)   ;plt.tight_layout()\n",
        "plt.title('Optimal Solution')\n",
        "plt.text(700, 1000, 'Feasible Region', size = 10)\n",
        "plt.annotate('Optimal solution', xy = (1725, 1850), size = 10)\n",
        "\n",
        "plt.legend()\n",
        "plt.show()"
      ],
      "metadata": {
        "id": "k6VAZ61922wV"
      },
      "execution_count": null,
      "outputs": []
    }
  ]
}